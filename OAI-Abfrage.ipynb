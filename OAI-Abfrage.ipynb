{
 "cells": [
  {
   "cell_type": "markdown",
   "id": "b4f436af-a449-42a6-b8af-3757b769c98e",
   "metadata": {},
   "source": [
    "# OAI-Schnitstellen Request, Antwort, Herunterladen der Daten\n",
    "Dieses Tutorial bietet Beispiele für Abfragen über die OAI-Schnittstelle mit Python. Es behandelt exemplarische Anfragen an die OAI-PMH-Schnittstelle der Staatsbibliothek zu Berlin - PK. Darüber hinaus wird das Herunterladen der Daten und das Speichern in einer CSV-Datei erläutert."
   ]
  },
  {
   "cell_type": "markdown",
   "id": "9a7879c1-cc5a-491c-9ccb-d94063fbf7cd",
   "metadata": {},
   "source": [
    "## Inhaltsverzeichnis\n",
    "- <a href = \"#einrichten\">Einrichten der Arbeitsumgebung</a>\n",
    "- <a href = \"#abfrage\">Abfrage aller Datensets</a>\n",
    "- <a href = \"#ausgabe\">Ausgabe von Titeln und Autoren eines Sets</a>\n",
    "- <a href = \"#zusatz\">Zusätzliche Ausgabe der Links zu den Objekten</a>\n",
    "- <a href = \"#herunterladen\">Herunterladen der Daten als CSV-Datei</a>"
   ]
  },
  {
   "cell_type": "markdown",
   "id": "9fb091ba-87a0-47da-829b-557d43b30be6",
   "metadata": {},
   "source": [
    "## Einrichten der Arbeitsumgebung <a class=\"anchor\" id=\"einrichten\"></a>\n",
    "Zuerst richten wir die Arbeitsumgebung ein, indem wir die benötigten Python-Bibliotheken importieren. Für Anfragen über die OAI-Schnittstelle wird die Bibliothek \"sickle\" genutzt, während für die Verarbeitung der XML-Daten die Bibliothek \"etree\" verwendet wird."
   ]
  },
  {
   "cell_type": "code",
   "execution_count": 1,
   "id": "480ffbdd-64ce-47dc-b8ab-70fe89ca7338",
   "metadata": {},
   "outputs": [],
   "source": [
    "from sickle import Sickle\n",
    "from lxml import etree"
   ]
  },
  {
   "cell_type": "markdown",
   "id": "201d7291-b5ea-4985-b2aa-b53d8929fa79",
   "metadata": {},
   "source": [
    "## Abfrage aller Datensets<a class=\"anchor\" id=\"abfrage\"></a>\n",
    "Die OAI-Basis-URL der Staatsbibliothek zu Berlin – PK ist https://oai.sbb.berlin. Bitte beachten Sie, dass die ausgegebene Antwort der Übersichtlichkeit halber auf 10 Antworten beschränkt wird. Sollten Sie alle Antworten einsehen wollen, löschen Sie den entsprechenden Teil des Codes oder setzen Sie ein # vor die Zeilen."
   ]
  },
  {
   "cell_type": "code",
   "execution_count": 2,
   "id": "64063954-27c9-4401-95ab-bad609c222ab",
   "metadata": {},
   "outputs": [
    {
     "name": "stdout",
     "output_type": "stream",
     "text": [
      "setSpec value for selective harvesting: all\n",
      "Name of the set (setName): Alle Kategorien\n",
      "\n",
      "setSpec value for selective harvesting: historische.drucke\n",
      "Name of the set (setName): Historische Drucke\n",
      "\n",
      "setSpec value for selective harvesting: theologie\n",
      "Name of the set (setName): Theologie\n",
      "\n",
      "setSpec value for selective harvesting: rechtswissenschaft\n",
      "Name of the set (setName): Rechtswissenschaft\n",
      "\n",
      "setSpec value for selective harvesting: militaerwesen\n",
      "Name of the set (setName): Militärwesen\n",
      "\n",
      "setSpec value for selective harvesting: geschichte.ethnographie.geographie\n",
      "Name of the set (setName): Geschichte / Ethnographie / Geographie\n",
      "\n",
      "setSpec value for selective harvesting: krieg.1914.1918\n",
      "Name of the set (setName): Krieg 1914-1918\n",
      "\n",
      "setSpec value for selective harvesting: landwirtschaft\n",
      "Name of the set (setName): Landwirtschaft / Forstwirtschaft\n",
      "\n",
      "setSpec value for selective harvesting: politik.staat.gesellschaft.wirtschaft\n",
      "Name of the set (setName): Politik / Staat / Gesellschaft / Wirtschaft\n",
      "\n",
      "setSpec value for selective harvesting: sprachen.literaturen\n",
      "Name of the set (setName): Sprachen / Literaturen\n",
      "\n"
     ]
    }
   ],
   "source": [
    "sickle = Sickle('https://oai.sbb.berlin')\n",
    "oai_sets = sickle.ListSets()\n",
    "counter = 0\n",
    "for oai_set in oai_sets:\n",
    "    print('setSpec value for selective harvesting: ' + oai_set.setSpec)\n",
    "    print('Name of the set (setName): ' + oai_set.setName + '\\n')\n",
    "    # Die folgenden Zeilen Code sind dazu da die angezeigten Ergebnisse auf 10 zu beschränken. \n",
    "    # Wenn Sie alle Ergebnisse einsehen möchten, löschen\n",
    "    # Sie das unten stehende Segment oder fügen Sie ein # vor allen den Zeilen ein.\n",
    "    counter += 1\n",
    "    if counter >= 10:\n",
    "        break"
   ]
  },
  {
   "cell_type": "markdown",
   "id": "1f079a00-acff-4630-b160-1aa09e12cc88",
   "metadata": {},
   "source": [
    "## Ausgabe von Titeln und Autoren eines Sets<a class=\"anchor\" id=\"ausgabe\"></a>\n",
    "Im folgenden Beispiel werden wir die Titel und die Autoren aus dem Set \"Illustrierte Liedflugschriften\" auflisten. Für die Anfrage müssen Metadatenformat und Set angegeben werden. Wir fragen hier die Dublin Core Metadaten ab, kurz DC. Die abgerufenen Daten sind in der XML-Antwort enthalten und werden durch nummerierte beschreibende Elemente dargestellt.  \n",
    "Für weitere Informationen zum Metadatenformat DC (Dublin Core) können Sie die DC-Spezifikationen unter http://www.openarchives.org/OAI/2.0/oai_dc/ und http://purl.org/dc/elements/1.1/ heranziehen. Weitere OAI-Funktionen werden unter http://www.openarchives.org/OAI/2.0/ spezifiziert und auf der Stabi-Lab-Seite unter dem Reiter \"Daten\" beschrieben.  \n",
    "Bitte beachten Sie, dass die ausgegebene Antwort der Übersichtlichkeit halber auf 10 Antworten beschränkt wird. Sollten Sie alle Antworten einsehen wollen, löschen Sie den entsprechenden Teil des Codes oder setzen Sie ein # vor die Zeilen."
   ]
  },
  {
   "cell_type": "code",
   "execution_count": 19,
   "id": "8ea63e05-6baa-48d1-851c-c01b715e349e",
   "metadata": {},
   "outputs": [
    {
     "name": "stdout",
     "output_type": "stream",
     "text": [
      "1: Sechs Geystliche Wey=||nacht Lieder/ Von der geburt Christi/|| vnd von den heiligen drey Kœnigen/|| Jm thon/ Wie bey einem jeden || Lied verzeichnet ist.||\n",
      "2: Alte vnd || Newe Geistli=||che Lieder vnd Lob=||gesenge/ von der Ge=||burt Christi/ vnsers || Herrn/ fuer die Jun=||ge Christen.|| Johan Spang.||\n",
      "Spangenberg, Johann\n",
      "3: Ein schœn geist||lich Liedt/ Ach Herre || Gott/ mich treybt die not.|| Ein ander geistlich Lied/|| Der genaden Brunn thut fliessen. Jm thon/|| Die Bruenlein die thun fliessen.||\n",
      "4: Ein new Lied/ der Je=||ger Geistlich.|| Ein ander geistlich lied/|| Jn dem thon/ Auss hertem || wee klagt sich ein Held.||\n",
      "5: Ein schœn New Geist=||lich Lied/ Wach auff wach auff O || menschen kindt/ [et]c. Jm Thon/|| Kompt her zu mir spricht || Gottes Son.||\n",
      "6: Der 103. Psalm/ Nu lob || mein seele den Herren. Jn || gesangs weyß. [Übers. v. Johannes Poliander] || Mer drey schöner Geist||licher Lieder. Das erst/ Herr Gott deine || gewalt/ ist vber jung vnd alt. Das ander/|| der mensch lebt nicht allein in brod.|| Das dritte/ Allein zu dir Herr || Jhesu Christ. [v. Johannes Schneesing]||\n",
      "Schneesing, Johannes\n",
      "7: Ein schœn new || Liede/ von Herrn D. Martini || Luthers sterben/ darinn kuertzlich be=||griffen/ was er inn der letzten zeit geredt || sehr trœstlich allen Christen/ durch || Leonhardum Ketner von || Herßbruck.|| Jm thon/ Jch rueff zu dir Herr || Jesu Christ.||\n",
      "Kettner, Leonhart\n",
      "8: Ein Christli=||cher Abentreien/ vom Leben || vnd ampt Johannis des Tauf=||fers/ fuer Christliche/ zuechtige || Jungfrawlein. N.H.||\n",
      "Herman, Nikolaus\n",
      "9: Zwey schœne newe Geist-||licher Liede/ auß Gœttlicher Schrifft/|| Von dem wuest~e wesen der jetzig~e bœsen || welt ... || ~Jm thon/|| Frisch auff jhr Landts=||knecht alle/ [et]c.|| Das Ander Lied zu bit=||ten vmb vergebung der Suend/ vnnd || vmb sterck~ug des glaubens/ Auch vmb || ein seliges endt. ~Jm thon/ wie der 13.|| Psalm/ HErr Gott wie lang || vergissest mein/ [et]c.||\n",
      "Müntzer, M. R.\n",
      "10: Zwey Schœne newe Lie=||der. Das erst/ Jch armer Suender klag || mich sehr. Das ander/ O Got Vat=||er im hœchsten Thron/ vnd || sind in dem Thon/ Jch || armes Meydlein || klag mich || seh/ etc.||\n"
     ]
    }
   ],
   "source": [
    "namespaces = {\n",
    "    'oai': 'http://www.openarchives.org/OAI/2.0/',\n",
    "    'oai_dc': 'http://www.openarchives.org/OAI/2.0/oai_dc/',\n",
    "    'dc': 'http://purl.org/dc/elements/1.1/'\n",
    "}\n",
    "\n",
    "count=0\n",
    "counter = 0\n",
    "\n",
    "for record in sickle.ListRecords(**{'metadataPrefix': 'oai_dc', 'set': 'illustrierte.liedflugschriften'}):\n",
    "    \n",
    "    if ('ger' in record.raw):\n",
    "        tree = etree.ElementTree(record.xml)\n",
    "        result = tree.xpath('/oai:record/oai:metadata/oai_dc:dc/dc:title/text()', namespaces=namespaces)\n",
    "        if (result):\n",
    "            count += 1\n",
    "            author = tree.xpath('/oai:record/oai:metadata/oai_dc:dc/dc:creator/text()', namespaces=namespaces)\n",
    "            print(str(count) + \": \" + result[0])\n",
    "            # Die folgenden Zeilen Code sind dazu da die angezeigten Ergebnisse auf 10 zu beschränken. \n",
    "            # Wenn Sie alle Ergebnisse einsehen möchten, löschen\n",
    "            # Sie das unten stehende Segment oder fügen Sie ein # vor allen den Zeilen ein.\n",
    "            counter += 1\n",
    "            if counter >= 10:\n",
    "                break\n",
    "            # bis hier löschen oder ein # vor die vorherigen Zeilen setzen.\n",
    "            if author:\n",
    "                print(author[0])\n",
    "               "
   ]
  },
  {
   "cell_type": "markdown",
   "id": "4b9296a3-97b9-4ad3-b8d3-7fe12755eb7f",
   "metadata": {},
   "source": [
    "## Zusätzliche Ausgabe der Links zu den Objekten<a class=\"anchor\" id=\"zusatz\"></a>\n",
    "Der Folgenden Code gibt die Links zu den digitalisierten Objekten aus. Hierfür wird entsprechend das DC-Schema /oai:record/oai:metadata/oai_dc:dc/dc:identifier/text() angesprochen und zusammen mit dem Titel ausgegeben.  \n",
    "Bitte beachten Sie, dass die ausgegebene Antwort der Übersichtlichkeit halber auf 10 Antworten beschränkt wird. Sollten Sie alle Antworten einsehen wollen, löschen Sie den entsprechenden Teil des Codes oder setzen Sie ein # vor die Zeilen."
   ]
  },
  {
   "cell_type": "code",
   "execution_count": 21,
   "id": "662a09a6-fc2b-43c5-b736-628a91d015b8",
   "metadata": {},
   "outputs": [
    {
     "name": "stdout",
     "output_type": "stream",
     "text": [
      "1: Sechs Geystliche Wey=||nacht Lieder/ Von der geburt Christi/|| vnd von den heiligen drey Kœnigen/|| Jm thon/ Wie bey einem jeden || Lied verzeichnet ist.||\n",
      "https://digital.staatsbibliothek-berlin.de/werkansicht?ppn=PPN66805073X\n",
      "2: Alte vnd || Newe Geistli=||che Lieder vnd Lob=||gesenge/ von der Ge=||burt Christi/ vnsers || Herrn/ fuer die Jun=||ge Christen.|| Johan Spang.||\n",
      "https://digital.staatsbibliothek-berlin.de/werkansicht?ppn=PPN668091029\n",
      "3: Ein schœn geist||lich Liedt/ Ach Herre || Gott/ mich treybt die not.|| Ein ander geistlich Lied/|| Der genaden Brunn thut fliessen. Jm thon/|| Die Bruenlein die thun fliessen.||\n",
      "https://digital.staatsbibliothek-berlin.de/werkansicht?ppn=PPN668097213\n",
      "4: Ein new Lied/ der Je=||ger Geistlich.|| Ein ander geistlich lied/|| Jn dem thon/ Auss hertem || wee klagt sich ein Held.||\n",
      "https://digital.staatsbibliothek-berlin.de/werkansicht?ppn=PPN668102799\n",
      "5: Ein schœn New Geist=||lich Lied/ Wach auff wach auff O || menschen kindt/ [et]c. Jm Thon/|| Kompt her zu mir spricht || Gottes Son.||\n",
      "https://digital.staatsbibliothek-berlin.de/werkansicht?ppn=PPN66814730X\n",
      "6: Der 103. Psalm/ Nu lob || mein seele den Herren. Jn || gesangs weyß. [Übers. v. Johannes Poliander] || Mer drey schöner Geist||licher Lieder. Das erst/ Herr Gott deine || gewalt/ ist vber jung vnd alt. Das ander/|| der mensch lebt nicht allein in brod.|| Das dritte/ Allein zu dir Herr || Jhesu Christ. [v. Johannes Schneesing]||\n",
      "https://digital.staatsbibliothek-berlin.de/werkansicht?ppn=PPN668148160\n",
      "7: Ein schœn new || Liede/ von Herrn D. Martini || Luthers sterben/ darinn kuertzlich be=||griffen/ was er inn der letzten zeit geredt || sehr trœstlich allen Christen/ durch || Leonhardum Ketner von || Herßbruck.|| Jm thon/ Jch rueff zu dir Herr || Jesu Christ.||\n",
      "https://digital.staatsbibliothek-berlin.de/werkansicht?ppn=PPN668153601\n",
      "8: Ein Christli=||cher Abentreien/ vom Leben || vnd ampt Johannis des Tauf=||fers/ fuer Christliche/ zuechtige || Jungfrawlein. N.H.||\n",
      "https://digital.staatsbibliothek-berlin.de/werkansicht?ppn=PPN668165987\n",
      "9: Zwey schœne newe Geist-||licher Liede/ auß Gœttlicher Schrifft/|| Von dem wuest~e wesen der jetzig~e bœsen || welt ... || ~Jm thon/|| Frisch auff jhr Landts=||knecht alle/ [et]c.|| Das Ander Lied zu bit=||ten vmb vergebung der Suend/ vnnd || vmb sterck~ug des glaubens/ Auch vmb || ein seliges endt. ~Jm thon/ wie der 13.|| Psalm/ HErr Gott wie lang || vergissest mein/ [et]c.||\n",
      "https://digital.staatsbibliothek-berlin.de/werkansicht?ppn=PPN668409428\n",
      "10: Zwey Schœne newe Lie=||der. Das erst/ Jch armer Suender klag || mich sehr. Das ander/ O Got Vat=||er im hœchsten Thron/ vnd || sind in dem Thon/ Jch || armes Meydlein || klag mich || seh/ etc.||\n",
      "https://digital.staatsbibliothek-berlin.de/werkansicht?ppn=PPN66841247X\n"
     ]
    }
   ],
   "source": [
    "namespaces = {\n",
    "    'oai': 'http://www.openarchives.org/OAI/2.0/',\n",
    "    'oai_dc': 'http://www.openarchives.org/OAI/2.0/oai_dc/',\n",
    "    'dc': 'http://purl.org/dc/elements/1.1/'\n",
    "}\n",
    "\n",
    "count=0\n",
    "counter=0\n",
    "\n",
    "for record in sickle.ListRecords(**{'metadataPrefix': 'oai_dc', 'set': 'illustrierte.liedflugschriften'}):\n",
    "    \n",
    "    if ('ger' in record.raw):\n",
    "        tree = etree.ElementTree(record.xml)\n",
    "        result = tree.xpath('/oai:record/oai:metadata/oai_dc:dc/dc:title/text()', namespaces=namespaces)\n",
    "        if (result):\n",
    "            count += 1\n",
    "            urn = tree.xpath('/oai:record/oai:metadata/oai_dc:dc/dc:identifier/text()', namespaces=namespaces)\n",
    "            print(str(count) + \": \" + result[0])\n",
    "            if urn:\n",
    "                print(\"https://digital.staatsbibliothek-berlin.de/werkansicht?ppn=\" + urn[0])\n",
    "                # Die folgenden Zeilen Code sind dazu da die angezeigten Ergebnisse auf 10 zu beschränken. \n",
    "                # Wenn Sie alle Ergebnisse einsehen möchten, löschen\n",
    "                # Sie das unten stehende Segment oder fügen Sie ein # vor allen den Zeilen ein.\n",
    "                counter += 1\n",
    "                if counter >= 10:\n",
    "                    break"
   ]
  },
  {
   "cell_type": "markdown",
   "id": "9d310d41-9ead-4429-9d89-8fece489ed3f",
   "metadata": {},
   "source": [
    "## Herunterladen der Daten als CSV-Datei<a class=\"anchor\" id=\"herunterladen\"></a>\n",
    "Im Folgenden zeigen wir Ihnen, wie Sie die Metadaten auslesen, in einen DataFrame einbinden und als CSV-Datei speichern."
   ]
  },
  {
   "cell_type": "markdown",
   "id": "c6d74e02-78d9-4949-8ba4-091c4a3e2769",
   "metadata": {},
   "source": [
    "Um die für Sie und Ihre Anfrage geeigneten Metadatenelemente zu identifizieren, werfen wir zuerst einen Blick auf die Unterelemente eines Objekts. Beachten Sie bitte, dass wir hier die DC-Metadaten betrachten, nicht die METS-Metadaten. "
   ]
  },
  {
   "cell_type": "code",
   "execution_count": 5,
   "id": "a7127027-386c-4e9c-a3c2-746351a614f2",
   "metadata": {},
   "outputs": [
    {
     "name": "stdout",
     "output_type": "stream",
     "text": [
      "<?xml version='1.0' encoding='UTF-8'?>\n",
      "<?xml-stylesheet href=\"/oai-static/oai2.xsl\" type=\"text/xsl\"?>\n",
      "<OAI-PMH xmlns=\"http://www.openarchives.org/OAI/2.0/\" xmlns:xsi=\"http://www.w3.org/2001/XMLSchema-instance\" xsi:schemaLocation=\"http://www.openarchives.org/OAI/2.0/ http://www.openarchives.org/OAI/2.0/OAI-PMH.xsd\">\n",
      "  <responseDate>2024-01-04T09:46:32Z</responseDate>\n",
      "  <request verb=\"GetRecord\" metadataPrefix=\"oai_dc\" identifier=\"oai:digital.staatsbibliothek-berlin.de:PPN668091029\">https://oai.sbb.berlin/</request>\n",
      "  <GetRecord>\n",
      "    <record>\n",
      "      <header>\n",
      "        <identifier>oai:digital.staatsbibliothek-berlin.de:PPN668091029</identifier>\n",
      "        <datestamp>2018-07-13T13:55:50Z</datestamp>\n",
      "        <setSpec>historische.drucke</setSpec>\n",
      "        <setSpec>musik</setSpec>\n",
      "        <setSpec>theologie</setSpec>\n",
      "      </header>\n",
      "      <metadata>\n",
      "        <oai_dc:dc xmlns:oai_dc=\"http://www.openarchives.org/OAI/2.0/oai_dc/\" xmlns:dc=\"http://purl.org/dc/elements/1.1/\" xsi:schemaLocation=\"http://www.openarchives.org/OAI/2.0/oai_dc/ http://www.openarchives.org/OAI/2.0/oai_dc.xsd\">\n",
      "          <dc:title>Alte vnd || Newe Geistli=||che Lieder vnd Lob=||gesenge/ von der Ge=||burt Christi/ vnsers || Herrn/ fuer die Jun=||ge Christen.|| Johan Spang.||</dc:title>\n",
      "          <dc:creator>Spangenberg, Johann</dc:creator>\n",
      "          <dc:subject>Historische Drucke</dc:subject>\n",
      "          <dc:subject>Musik</dc:subject>\n",
      "          <dc:subject>Theologie</dc:subject>\n",
      "          <dc:publisher>Sachse, Melchior</dc:publisher>\n",
      "          <dc:type>monograph</dc:type>\n",
      "          <dc:type>text</dc:type>\n",
      "          <dc:format>application/mets+xml</dc:format>\n",
      "          <dc:format>image/jpeg</dc:format>\n",
      "          <dc:identifier>PPN668091029</dc:identifier>\n",
      "          <dc:identifier>PPN567450481</dc:identifier>\n",
      "          <dc:identifier>http://resolver.staatsbibliothek-berlin.de/SBB00005DC200000000</dc:identifier>\n",
      "          <dc:language>ger</dc:language>\n",
      "          <dc:date>1544</dc:date>\n",
      "          <dc:coverage>Erfurt</dc:coverage>\n",
      "          <dc:rights>Public Domain Mark 1.0</dc:rights>\n",
      "        </oai_dc:dc>\n",
      "      </metadata>\n",
      "    </record>\n",
      "  </GetRecord>\n",
      "</OAI-PMH>\n",
      "\n"
     ]
    }
   ],
   "source": [
    "import requests\n",
    "\n",
    "response = requests.get('https://oai.sbb.berlin/?verb=GetRecord&metadataPrefix=oai_dc&identifier=oai:digital.staatsbibliothek-berlin.de:PPN668091029')\n",
    "flugschrift1_xml = response.text\n",
    "print(flugschrift1_xml)"
   ]
  },
  {
   "cell_type": "markdown",
   "id": "d0df863a-11d0-41d1-982a-4b65fc8f0b7d",
   "metadata": {},
   "source": [
    "Gehen wir nun davon aus, dass Sie die folgenden Metadaten für die Weiterverwendung benötigen: dc:date, dc:coverage, dc:publisher und dc:creator. Exemplarisch werden wir diese für alle 1589 Objekte im Set \"Illustrierte Liedflugschriften\" in einen DataFrame (eine Datenmatrix, in der Daten in Zeilen und Spalten organisiert sind) einbinden."
   ]
  },
  {
   "cell_type": "code",
   "execution_count": 6,
   "id": "6c09b62f-a01f-462f-9769-84444390f130",
   "metadata": {},
   "outputs": [
    {
     "data": {
      "text/html": [
       "<div>\n",
       "<style scoped>\n",
       "    .dataframe tbody tr th:only-of-type {\n",
       "        vertical-align: middle;\n",
       "    }\n",
       "\n",
       "    .dataframe tbody tr th {\n",
       "        vertical-align: top;\n",
       "    }\n",
       "\n",
       "    .dataframe thead th {\n",
       "        text-align: right;\n",
       "    }\n",
       "</style>\n",
       "<table border=\"1\" class=\"dataframe\">\n",
       "  <thead>\n",
       "    <tr style=\"text-align: right;\">\n",
       "      <th></th>\n",
       "      <th>date</th>\n",
       "      <th>place</th>\n",
       "      <th>publisher</th>\n",
       "      <th>creator</th>\n",
       "    </tr>\n",
       "  </thead>\n",
       "  <tbody>\n",
       "    <tr>\n",
       "      <th>0</th>\n",
       "      <td>1555</td>\n",
       "      <td>Nürnberg</td>\n",
       "      <td>Gutknecht, Friedrich</td>\n",
       "      <td>None</td>\n",
       "    </tr>\n",
       "    <tr>\n",
       "      <th>1</th>\n",
       "      <td>1544</td>\n",
       "      <td>Erfurt</td>\n",
       "      <td>Sachse, Melchior</td>\n",
       "      <td>Spangenberg, Johann</td>\n",
       "    </tr>\n",
       "    <tr>\n",
       "      <th>2</th>\n",
       "      <td>1560</td>\n",
       "      <td>Nürnberg</td>\n",
       "      <td>Neuber, Valentin</td>\n",
       "      <td>None</td>\n",
       "    </tr>\n",
       "    <tr>\n",
       "      <th>3</th>\n",
       "      <td>1560</td>\n",
       "      <td>s.l.</td>\n",
       "      <td>None</td>\n",
       "      <td>None</td>\n",
       "    </tr>\n",
       "    <tr>\n",
       "      <th>4</th>\n",
       "      <td>1560</td>\n",
       "      <td>Nürnberg</td>\n",
       "      <td>Gutknecht, Friedrich</td>\n",
       "      <td>None</td>\n",
       "    </tr>\n",
       "    <tr>\n",
       "      <th>...</th>\n",
       "      <td>...</td>\n",
       "      <td>...</td>\n",
       "      <td>...</td>\n",
       "      <td>...</td>\n",
       "    </tr>\n",
       "    <tr>\n",
       "      <th>1584</th>\n",
       "      <td>1850</td>\n",
       "      <td>[S.l.]</td>\n",
       "      <td>None</td>\n",
       "      <td>None</td>\n",
       "    </tr>\n",
       "    <tr>\n",
       "      <th>1585</th>\n",
       "      <td>1850</td>\n",
       "      <td>[S.l.]</td>\n",
       "      <td>None</td>\n",
       "      <td>None</td>\n",
       "    </tr>\n",
       "    <tr>\n",
       "      <th>1586</th>\n",
       "      <td>1870</td>\n",
       "      <td>[Berlin]</td>\n",
       "      <td>Queva</td>\n",
       "      <td>Queva, A.</td>\n",
       "    </tr>\n",
       "    <tr>\n",
       "      <th>1587</th>\n",
       "      <td>1850</td>\n",
       "      <td>[S.l.]</td>\n",
       "      <td>None</td>\n",
       "      <td>Mosen, Julius</td>\n",
       "    </tr>\n",
       "    <tr>\n",
       "      <th>1588</th>\n",
       "      <td>1850</td>\n",
       "      <td>[S.l.]</td>\n",
       "      <td>None</td>\n",
       "      <td>None</td>\n",
       "    </tr>\n",
       "  </tbody>\n",
       "</table>\n",
       "<p>1589 rows × 4 columns</p>\n",
       "</div>"
      ],
      "text/plain": [
       "      date     place             publisher              creator\n",
       "0     1555  Nürnberg  Gutknecht, Friedrich                 None\n",
       "1     1544    Erfurt      Sachse, Melchior  Spangenberg, Johann\n",
       "2     1560  Nürnberg      Neuber, Valentin                 None\n",
       "3     1560      s.l.                  None                 None\n",
       "4     1560  Nürnberg  Gutknecht, Friedrich                 None\n",
       "...    ...       ...                   ...                  ...\n",
       "1584  1850    [S.l.]                  None                 None\n",
       "1585  1850    [S.l.]                  None                 None\n",
       "1586  1870  [Berlin]                 Queva            Queva, A.\n",
       "1587  1850    [S.l.]                  None        Mosen, Julius\n",
       "1588  1850    [S.l.]                  None                 None\n",
       "\n",
       "[1589 rows x 4 columns]"
      ]
     },
     "execution_count": 6,
     "metadata": {},
     "output_type": "execute_result"
    }
   ],
   "source": [
    "# Importieren der benötigten Bibliotheken\n",
    "import requests\n",
    "import xml.etree.ElementTree as ET\n",
    "import pandas as pd\n",
    "\n",
    "# Festlegen der OAI-Parameter\n",
    "base_url = 'https://oai.sbb.berlin/'\n",
    "metadata_prefix = 'oai_dc'\n",
    "set_name = 'illustrierte.liedflugschriften'\n",
    "\n",
    "# Definitieren der Funktion zum Extrahieren der Daten aus dem OAI-Response\n",
    "def extract_data(response_xml):\n",
    "    ns = {\n",
    "        \"oai_dc\": \"http://www.openarchives.org/OAI/2.0/oai_dc/\",\n",
    "        \"dc\": \"http://purl.org/dc/elements/1.1/\"\n",
    "    }\n",
    "    dates = []\n",
    "    places = []\n",
    "    publishers = []\n",
    "    creators = []\n",
    "\n",
    "    flugschriften = ET.fromstring(response_xml)\n",
    "    for item in flugschriften.findall(\".//oai_dc:dc\", ns):\n",
    "        # Hier können Sie andere Metadaten-Elemnte abfragen, indem Sie\n",
    "        # anstatt .//dc:date ein anderes Metadaten-Element einfügen.\n",
    "        dates.append(item.find('.//dc:date', ns).text)\n",
    "        places.append(item.find('.//dc:coverage', ns).text)\n",
    "        publisher_element = item.find('.//dc:publisher', ns)\n",
    "        if publisher_element is not None:\n",
    "            publishers.append(publisher_element.text)\n",
    "        else:\n",
    "            publishers.append(None)\n",
    "        creator_element = item.find('.//dc:creator', ns)\n",
    "        if creator_element is not None:\n",
    "            creators.append(creator_element.text)\n",
    "        else:\n",
    "            creators.append(None)\n",
    "\n",
    "    return dates, places, publishers, creators\n",
    "\n",
    "# Definitinieren der Funktion zum Durchführen der OAI-Abfrage und Extrahieren der Daten\n",
    "def get_data(url):\n",
    "    response = requests.get(url)\n",
    "    response_xml = response.text\n",
    "    dates, places, publishers, creators = extract_data(response_xml)\n",
    "    return dates, places, publishers, creators, response_xml\n",
    "\n",
    "# Erstellen leerer Listen und Abrufen der Daten von allen Seiten\n",
    "all_dates = []\n",
    "all_places = []\n",
    "all_publishers = []\n",
    "all_creators = []\n",
    "\n",
    "next_url = f\"{base_url}?verb=ListRecords&metadataPrefix={metadata_prefix}&set={set_name}\"\n",
    "while next_url:\n",
    "    dates, places, publishers, creators, response_xml = get_data(next_url)\n",
    "    all_dates.extend(dates)\n",
    "    all_places.extend(places)\n",
    "    all_publishers.extend(publishers)\n",
    "    all_creators.extend(creators)\n",
    "    \n",
    "    # Überprüfung ob es einen Resumption Token gibt und weitere Daten vorhanden sind\n",
    "    root = ET.fromstring(response_xml)\n",
    "    resumption_token = root.find('.//{http://www.openarchives.org/OAI/2.0/}resumptionToken')\n",
    "    if resumption_token is not None:\n",
    "        next_url = f\"{base_url}?verb=ListRecords&resumptionToken={resumption_token.text}\"\n",
    "    else:\n",
    "        next_url = None\n",
    "\n",
    "# Erstellen eines DataFrames mit allen gesammelten Daten\n",
    "flugschriften_df = pd.DataFrame({'date': all_dates, 'place': all_places, 'publisher': all_publishers, 'creator': all_creators})\n",
    "\n",
    "flugschriften_df"
   ]
  },
  {
   "cell_type": "markdown",
   "id": "402042c9-55e6-4d9d-9fa3-03465876742e",
   "metadata": {},
   "source": [
    "Wenn Sie diesen DataFrame als CSV-Datei speichern und lokal weiterverwenden möchten, nutzen Sie folgenden Code. Entfernen Sie dafür das # vor dem Code, um diesen auszuführen. Sie erhalten dann eine CSV-Datei, die Sie mit Jupyter Notebooks oder Excel öffnen und weiterverarbeiten können."
   ]
  },
  {
   "cell_type": "code",
   "execution_count": 7,
   "id": "464a9448-5982-4b56-b8bb-92280d04cd1f",
   "metadata": {},
   "outputs": [],
   "source": [
    "# flugschriften_df.to_csv('FS1.csv')"
   ]
  },
  {
   "cell_type": "markdown",
   "id": "1b478133-0144-47a5-a096-7eccc343dcb7",
   "metadata": {},
   "source": [
    "Für Inspirationen, wie Sie die Daten visuell aufbereiten stehen Ihnen unter https://infovis.fh-potsdam.de/tutorials/ hilfreiche Tutorials zur Verfügung. Diese Tutorials wurden von Prof. Dr. Marian Dörk der Fachhoschule Potsdam erstellt. <br> Dieses Jupyter-Notebook wurde von Ulrike Förstel im Rahmen ihrer Bachelorarbeit erstellt."
   ]
  },
  {
   "cell_type": "code",
   "execution_count": null,
   "id": "410687ca-138b-4540-bc8a-75094d3e117d",
   "metadata": {},
   "outputs": [],
   "source": []
  }
 ],
 "metadata": {
  "kernelspec": {
   "display_name": "Python 3 (ipykernel)",
   "language": "python",
   "name": "python3"
  },
  "language_info": {
   "codemirror_mode": {
    "name": "ipython",
    "version": 3
   },
   "file_extension": ".py",
   "mimetype": "text/x-python",
   "name": "python",
   "nbconvert_exporter": "python",
   "pygments_lexer": "ipython3",
   "version": "3.12.1"
  }
 },
 "nbformat": 4,
 "nbformat_minor": 5
}
